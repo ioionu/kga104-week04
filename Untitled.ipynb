{
 "cells": [
  {
   "cell_type": "code",
   "execution_count": 5,
   "id": "8d7691dc",
   "metadata": {},
   "outputs": [],
   "source": [
    "import pandas as pd\n",
    "natural = pd.read_excel(\"AngrySummer_NaturalWorld (1).xlsx\")\n",
    "real = pd.read_excel(\"AngrySummer_RealWorld (1).xlsx\")"
   ]
  },
  {
   "cell_type": "code",
   "execution_count": 6,
   "id": "132ca183",
   "metadata": {},
   "outputs": [
    {
     "data": {
      "text/plain": [
       "x    37\n",
       "dtype: int64"
      ]
     },
     "execution_count": 6,
     "metadata": {},
     "output_type": "execute_result"
    }
   ],
   "source": [
    "real.columns = ['x']\n",
    "real.query('x>1').count()"
   ]
  }
 ],
 "metadata": {
  "kernelspec": {
   "display_name": "Python 3 (ipykernel)",
   "language": "python",
   "name": "python3"
  },
  "language_info": {
   "codemirror_mode": {
    "name": "ipython",
    "version": 3
   },
   "file_extension": ".py",
   "mimetype": "text/x-python",
   "name": "python",
   "nbconvert_exporter": "python",
   "pygments_lexer": "ipython3",
   "version": "3.9.2"
  }
 },
 "nbformat": 4,
 "nbformat_minor": 5
}
